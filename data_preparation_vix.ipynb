{
 "cells": [
  {
   "cell_type": "code",
   "execution_count": 40,
   "id": "eb8cf503",
   "metadata": {},
   "outputs": [],
   "source": [
    "import os\n",
    "import pandas as pd\n",
    "from glob import glob\n",
    "from datetime import datetime\n",
    "import numpy as np"
   ]
  },
  {
   "cell_type": "code",
   "execution_count": 22,
   "id": "d9566a5e",
   "metadata": {},
   "outputs": [],
   "source": [
    "# Read VIX data\n",
    "vix_data = pd.read_csv(\"monthly_data.csv\")\n",
    "\n",
    "# Read final settlement data\n",
    "final_settle_df = pd.read_csv(\"final_settle_df.csv\")"
   ]
  },
  {
   "cell_type": "code",
   "execution_count": 23,
   "id": "929b2e2b",
   "metadata": {},
   "outputs": [
    {
     "name": "stdout",
     "output_type": "stream",
     "text": [
      "  Product ContractSymbol Duration Type Expiration  SettlementPrice\n",
      "0      VX     VX/J5_2025       Monthly 2025-04-16            31.91\n",
      "1      VX     VX/H5_2025       Monthly 2025-03-18            21.63\n",
      "2      VX     VX/G5_2025       Monthly 2025-02-19            15.94\n",
      "3      VX     VX/F5_2025       Monthly 2025-01-22            15.53\n",
      "4      VX     VX/Z4_2024       Monthly 2024-12-18            15.66\n"
     ]
    }
   ],
   "source": [
    "# Ensure 'Expiration' is datetime\n",
    "final_settle_df['Expiration'] = pd.to_datetime(final_settle_df['Expiration'])\n",
    "\n",
    "print(final_settle_df.head())"
   ]
  },
  {
   "cell_type": "code",
   "execution_count": 24,
   "id": "a2fc7a61",
   "metadata": {},
   "outputs": [
    {
     "name": "stdout",
     "output_type": "stream",
     "text": [
      "        Date  Close   Contract  Year ContractSymbol ContractSymbol1\n",
      "0 2013-04-22  19.55  CFE_VX_F4  2013          VX/F4      VX/F4_2014\n",
      "1 2013-04-23  19.35  CFE_VX_F4  2013          VX/F4      VX/F4_2014\n",
      "2 2013-04-24  19.15  CFE_VX_F4  2013          VX/F4      VX/F4_2014\n",
      "3 2013-04-25  19.25  CFE_VX_F4  2013          VX/F4      VX/F4_2014\n",
      "4 2013-04-26  19.14  CFE_VX_F4  2013          VX/F4      VX/F4_2014\n"
     ]
    }
   ],
   "source": [
    "# Ensure 'Data' is datetime\n",
    "vix_data['Date'] = pd.to_datetime(vix_data['Date'])\n",
    "print(vix_data.head())"
   ]
  },
  {
   "cell_type": "code",
   "execution_count": 25,
   "id": "19a6617c",
   "metadata": {},
   "outputs": [],
   "source": [
    "# Sort dataframes by date\n",
    "vix_data = vix_data.sort_values(by='Date')\n",
    "final_settle_df = final_settle_df.sort_values(by='Expiration')"
   ]
  },
  {
   "cell_type": "code",
   "execution_count": 26,
   "id": "693fae86",
   "metadata": {},
   "outputs": [
    {
     "name": "stdout",
     "output_type": "stream",
     "text": [
      "            Date  Close    Contract  Year ContractSymbol_x ContractSymbol1  \\\n",
      "0     2013-04-22  19.55   CFE_VX_F4  2013            VX/F4      VX/F4_2014   \n",
      "1     2013-04-23  19.35   CFE_VX_F4  2013            VX/F4      VX/F4_2014   \n",
      "2     2013-04-24  19.15   CFE_VX_F4  2013            VX/F4      VX/F4_2014   \n",
      "3     2013-04-25  19.25   CFE_VX_F4  2013            VX/F4      VX/F4_2014   \n",
      "4     2013-04-26  19.14   CFE_VX_F4  2013            VX/F4      VX/F4_2014   \n",
      "...          ...    ...         ...   ...              ...             ...   \n",
      "24760 2024-12-12  14.51  CFE_VX_Z24  2024           VX/Z24      VX/Z4_2024   \n",
      "24761 2024-12-13  14.55  CFE_VX_Z24  2024           VX/Z24      VX/Z4_2024   \n",
      "24762 2024-12-16  14.75  CFE_VX_Z24  2024           VX/Z24      VX/Z4_2024   \n",
      "24763 2024-12-17  15.75  CFE_VX_Z24  2024           VX/Z24      VX/Z4_2024   \n",
      "24764 2024-12-18  15.40  CFE_VX_Z24  2024           VX/Z24      VX/Z4_2024   \n",
      "\n",
      "      ContractSymbol_y Expiration  SettlementPrice  \n",
      "0           VX/F4_2014 2014-01-22            12.36  \n",
      "1           VX/F4_2014 2014-01-22            12.36  \n",
      "2           VX/F4_2014 2014-01-22            12.36  \n",
      "3           VX/F4_2014 2014-01-22            12.36  \n",
      "4           VX/F4_2014 2014-01-22            12.36  \n",
      "...                ...        ...              ...  \n",
      "24760       VX/Z4_2024 2024-12-18            15.66  \n",
      "24761       VX/Z4_2024 2024-12-18            15.66  \n",
      "24762       VX/Z4_2024 2024-12-18            15.66  \n",
      "24763       VX/Z4_2024 2024-12-18            15.66  \n",
      "24764       VX/Z4_2024 2024-12-18            15.66  \n",
      "\n",
      "[24765 rows x 9 columns]\n"
     ]
    }
   ],
   "source": [
    "# Merge this two dataframes on common Contract Symbol\n",
    "vix_data = pd.merge(\n",
    "    vix_data,\n",
    "    final_settle_df[['ContractSymbol', 'Expiration', 'SettlementPrice']],\n",
    "    left_on='ContractSymbol1',\n",
    "    right_on='ContractSymbol',\n",
    "    how='left'\n",
    ")\n",
    "print(vix_data)"
   ]
  },
  {
   "cell_type": "code",
   "execution_count": 27,
   "id": "3aa4de06",
   "metadata": {},
   "outputs": [],
   "source": [
    "# Ensure 'Date' is in datetime format\n",
    "vix_data['Date'] = pd.to_datetime(vix_data['Date'])\n",
    "\n",
    "# Ensure 'Expiration' is also datetime\n",
    "vix_data['Expiration'] = pd.to_datetime(vix_data['Expiration'])\n",
    "\n",
    "# Calculate days to expiry\n",
    "vix_data['DaysToExpiry'] = (vix_data['Expiration'] - vix_data['Date']).dt.days"
   ]
  },
  {
   "cell_type": "code",
   "execution_count": 30,
   "id": "7b3d01c9",
   "metadata": {},
   "outputs": [],
   "source": [
    "vix_data = (\n",
    "    vix_data[vix_data['DaysToExpiry'] > 0]\n",
    "    .sort_values(['Date', 'DaysToExpiry'])\n",
    "    .groupby('Date', group_keys=False)[vix_data.columns]  # explicitly include all columns\n",
    "    .apply(lambda x: x if (x['DaysToExpiry'].iloc[0] == 1 and len(x) > 1) else x.iloc[[0]])\n",
    "    .reset_index(drop=True)\n",
    ")"
   ]
  },
  {
   "cell_type": "code",
   "execution_count": 32,
   "id": "29bb7d84",
   "metadata": {},
   "outputs": [],
   "source": [
    "vix_data = (\n",
    "    vix_data.sort_values(['Date', 'DaysToExpiry'])\n",
    "            .groupby('Date', group_keys=False)[vix_data.columns]  # explicitly select all columns\n",
    "            .apply(lambda x: x.iloc[:2] if x.iloc[0]['DaysToExpiry'] == 1 else x.iloc[[0]])\n",
    "            .reset_index(drop=True)\n",
    ")"
   ]
  },
  {
   "cell_type": "code",
   "execution_count": 33,
   "id": "c48f867b",
   "metadata": {},
   "outputs": [
    {
     "name": "stdout",
     "output_type": "stream",
     "text": [
      "           Date  Close    Contract  Year ContractSymbol_x ContractSymbol1  \\\n",
      "0    2013-04-22  19.55   CFE_VX_F4  2013            VX/F4      VX/F4_2014   \n",
      "1    2013-04-23  19.35   CFE_VX_F4  2013            VX/F4      VX/F4_2014   \n",
      "2    2013-04-24  19.15   CFE_VX_F4  2013            VX/F4      VX/F4_2014   \n",
      "3    2013-04-25  19.25   CFE_VX_F4  2013            VX/F4      VX/F4_2014   \n",
      "4    2013-04-26  19.14   CFE_VX_F4  2013            VX/F4      VX/F4_2014   \n",
      "...         ...    ...         ...   ...              ...             ...   \n",
      "3064 2024-12-11  14.36  CFE_VX_Z24  2024           VX/Z24      VX/Z4_2024   \n",
      "3065 2024-12-12  14.51  CFE_VX_Z24  2024           VX/Z24      VX/Z4_2024   \n",
      "3066 2024-12-13  14.55  CFE_VX_Z24  2024           VX/Z24      VX/Z4_2024   \n",
      "3067 2024-12-16  14.75  CFE_VX_Z24  2024           VX/Z24      VX/Z4_2024   \n",
      "3068 2024-12-17  15.75  CFE_VX_Z24  2024           VX/Z24      VX/Z4_2024   \n",
      "\n",
      "     ContractSymbol_y Expiration  SettlementPrice  DaysToExpiry  \n",
      "0          VX/F4_2014 2014-01-22            12.36           275  \n",
      "1          VX/F4_2014 2014-01-22            12.36           274  \n",
      "2          VX/F4_2014 2014-01-22            12.36           273  \n",
      "3          VX/F4_2014 2014-01-22            12.36           272  \n",
      "4          VX/F4_2014 2014-01-22            12.36           271  \n",
      "...               ...        ...              ...           ...  \n",
      "3064       VX/Z4_2024 2024-12-18            15.66             7  \n",
      "3065       VX/Z4_2024 2024-12-18            15.66             6  \n",
      "3066       VX/Z4_2024 2024-12-18            15.66             5  \n",
      "3067       VX/Z4_2024 2024-12-18            15.66             2  \n",
      "3068       VX/Z4_2024 2024-12-18            15.66             1  \n",
      "\n",
      "[3069 rows x 10 columns]\n"
     ]
    }
   ],
   "source": [
    "print(vix_data)"
   ]
  },
  {
   "cell_type": "code",
   "execution_count": 34,
   "id": "6dab40e0",
   "metadata": {},
   "outputs": [],
   "source": [
    "vix_data = vix_data[vix_data['Date'] > '2014-01-20']\n",
    "vix_data = vix_data[vix_data['DaysToExpiry'] >=1]"
   ]
  },
  {
   "cell_type": "code",
   "execution_count": 42,
   "id": "dca2ca16",
   "metadata": {},
   "outputs": [
    {
     "name": "stdout",
     "output_type": "stream",
     "text": [
      "            Close_next\n",
      "Date                  \n",
      "2014-01-21       14.06\n",
      "2014-01-22       13.82\n",
      "2014-01-23       14.17\n",
      "2014-01-24       16.21\n",
      "2014-01-27       16.09\n",
      "...                ...\n",
      "2024-12-10       14.56\n",
      "2024-12-11       14.36\n",
      "2024-12-12       14.51\n",
      "2024-12-13       14.55\n",
      "2024-12-16       14.75\n",
      "\n",
      "[2748 rows x 1 columns]\n"
     ]
    }
   ],
   "source": [
    "vix_data = vix_data.set_index('Date')\n",
    "# Next contract (DaysToExpiry > 0), pick the one with the smallest DaysToExpiry > 0 per date\n",
    "next_contract = (\n",
    "    vix_data[vix_data['DaysToExpiry'] > 1]\n",
    "    .sort_values('DaysToExpiry')  # Ensure the soonest next contract is chosen\n",
    "    .groupby(level=0)  # group by Date (index)\n",
    "    .first()[['Close']]\n",
    "    .rename(columns={'Close': 'Close_next'})\n",
    ")\n",
    "\n",
    "expiring = vix_data[vix_data['DaysToExpiry'] == 1].copy()\n",
    "# Join both into one row per date\n",
    "data_rolled = expiring.join(next_contract, how='left')\n",
    "next_contract.name = \"price_next\"\n",
    "print(next_contract)"
   ]
  },
  {
   "cell_type": "code",
   "execution_count": 43,
   "id": "e1833a9a",
   "metadata": {},
   "outputs": [
    {
     "name": "stdout",
     "output_type": "stream",
     "text": [
      "            Close    Contract  Year ContractSymbol_x ContractSymbol1  \\\n",
      "Date                                                                   \n",
      "2014-01-21  13.23   CFE_VX_F4  2014            VX/F4      VX/F4_2014   \n",
      "2014-01-22  13.82   CFE_VX_G4  2014            VX/G4      VX/G4_2014   \n",
      "2014-01-23  14.17   CFE_VX_G4  2014            VX/G4      VX/G4_2014   \n",
      "2014-01-24  16.21   CFE_VX_G4  2014            VX/G4      VX/G4_2014   \n",
      "2014-01-27  16.09   CFE_VX_G4  2014            VX/G4      VX/G4_2014   \n",
      "...           ...         ...   ...              ...             ...   \n",
      "2024-12-11  14.36  CFE_VX_Z24  2024           VX/Z24      VX/Z4_2024   \n",
      "2024-12-12  14.51  CFE_VX_Z24  2024           VX/Z24      VX/Z4_2024   \n",
      "2024-12-13  14.55  CFE_VX_Z24  2024           VX/Z24      VX/Z4_2024   \n",
      "2024-12-16  14.75  CFE_VX_Z24  2024           VX/Z24      VX/Z4_2024   \n",
      "2024-12-17  15.75  CFE_VX_Z24  2024           VX/Z24      VX/Z4_2024   \n",
      "\n",
      "           ContractSymbol_y Expiration  SettlementPrice  DaysToExpiry  \\\n",
      "Date                                                                    \n",
      "2014-01-21       VX/F4_2014 2014-01-22            12.36             1   \n",
      "2014-01-22       VX/G4_2014 2014-02-19            15.47            28   \n",
      "2014-01-23       VX/G4_2014 2014-02-19            15.47            27   \n",
      "2014-01-24       VX/G4_2014 2014-02-19            15.47            26   \n",
      "2014-01-27       VX/G4_2014 2014-02-19            15.47            23   \n",
      "...                     ...        ...              ...           ...   \n",
      "2024-12-11       VX/Z4_2024 2024-12-18            15.66             7   \n",
      "2024-12-12       VX/Z4_2024 2024-12-18            15.66             6   \n",
      "2024-12-13       VX/Z4_2024 2024-12-18            15.66             5   \n",
      "2024-12-16       VX/Z4_2024 2024-12-18            15.66             2   \n",
      "2024-12-17       VX/Z4_2024 2024-12-18            15.66             1   \n",
      "\n",
      "            Close_next  \n",
      "Date                    \n",
      "2014-01-21       14.06  \n",
      "2014-01-22         NaN  \n",
      "2014-01-23         NaN  \n",
      "2014-01-24         NaN  \n",
      "2014-01-27         NaN  \n",
      "...                ...  \n",
      "2024-12-11         NaN  \n",
      "2024-12-12         NaN  \n",
      "2024-12-13         NaN  \n",
      "2024-12-16         NaN  \n",
      "2024-12-17         NaN  \n",
      "\n",
      "[2749 rows x 10 columns]\n"
     ]
    }
   ],
   "source": [
    "df = vix_data.merge(next_contract, left_index=True, right_index=True, how='left')\n",
    "# Keep Close_next only for rows where DaysToExpiry == 1\n",
    "df['Close_next'] = df.apply(\n",
    "    lambda row: row['Close_next'] if row['DaysToExpiry'] == 1 else np.nan,\n",
    "    axis=1\n",
    ")\n",
    "df = df.reset_index()  # If Date is in the index, move it to a column\n",
    "df = df.drop_duplicates(subset=['Date'], keep='first')\n",
    "df = df.set_index('Date')  # Optional: set Date back as index if needed\n",
    "print(df)"
   ]
  },
  {
   "cell_type": "code",
   "execution_count": 44,
   "id": "837908f2",
   "metadata": {},
   "outputs": [],
   "source": [
    "df.to_csv(\"data_vix.csv\", index=True)"
   ]
  }
 ],
 "metadata": {
  "kernelspec": {
   "display_name": "Python 3",
   "language": "python",
   "name": "python3"
  },
  "language_info": {
   "codemirror_mode": {
    "name": "ipython",
    "version": 3
   },
   "file_extension": ".py",
   "mimetype": "text/x-python",
   "name": "python",
   "nbconvert_exporter": "python",
   "pygments_lexer": "ipython3",
   "version": "3.12.6"
  }
 },
 "nbformat": 4,
 "nbformat_minor": 5
}
