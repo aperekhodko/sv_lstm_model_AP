{
 "cells": [
  {
   "cell_type": "code",
   "execution_count": 1,
   "metadata": {},
   "outputs": [],
   "source": [
    "import pandas as pd\n",
    "from scipy.stats import wilcoxon\n",
    "import numpy as np\n",
    "from scipy import stats\n",
    "from dieboldmariano import dm_test"
   ]
  },
  {
   "cell_type": "code",
   "execution_count": 2,
   "metadata": {},
   "outputs": [
    {
     "name": "stdout",
     "output_type": "stream",
     "text": [
      "              Actual  Predicted\n",
      "Date                           \n",
      "2014-01-24  0.006968   0.005308\n",
      "2014-01-27  0.006996   0.006956\n",
      "2014-01-28  0.007142   0.007305\n",
      "2014-01-29  0.007384   0.007484\n",
      "2014-01-30  0.007886   0.007653\n"
     ]
    }
   ],
   "source": [
    "df1 = pd.read_csv('hybrid_baseline.csv')\n",
    "# Convert the Date column to datetime format\n",
    "#df1['Date'] = pd.to_datetime(df1['Date'], format='%d/%m/%Y')  # Adjust format if needed\n",
    "\n",
    "# Set Date as index\n",
    "df1.set_index('Date', inplace=True)\n",
    "\n",
    "df1 = df1.loc[\"2014-01-24\":]\n",
    "print(df1.head())"
   ]
  },
  {
   "cell_type": "code",
   "execution_count": 3,
   "metadata": {},
   "outputs": [],
   "source": [
    "y_true = df1['Actual']\n",
    "y_pred_sv_lstm = df1['Predicted']"
   ]
  },
  {
   "cell_type": "code",
   "execution_count": null,
   "metadata": {},
   "outputs": [
    {
     "name": "stdout",
     "output_type": "stream",
     "text": [
      "             Training_Start Prediction_Date  SV_Volatility\n",
      "Training_End                                              \n",
      "2014-01-24       2012-01-24      2014-01-27       0.006596\n",
      "2014-01-27       2012-01-25      2014-01-28       0.008759\n",
      "2014-01-28       2012-01-26      2014-01-29       0.007804\n",
      "2014-01-29       2012-01-27      2014-01-30       0.007606\n",
      "2014-01-30       2012-01-30      2014-01-31       0.007602\n"
     ]
    }
   ],
   "source": [
    "df_sv = pd.read_csv('sv.csv')\n",
    "#df2['Training_End'] = pd.to_datetime(df2['Training_End'], format='%d/%m/%Y')\n",
    "df_sv.set_index('Training_End', inplace=True)\n",
    "\n",
    "df_sv = df_sv.loc[\"2014-01-24\":]\n",
    "print(df_sv.head())"
   ]
  },
  {
   "cell_type": "code",
   "execution_count": null,
   "metadata": {},
   "outputs": [
    {
     "name": "stdout",
     "output_type": "stream",
     "text": [
      "              Actual  Predicted Training_Start Prediction_Date  SV_Volatility\n",
      "Date                                                                         \n",
      "2014-01-24  0.006968   0.005308     2012-01-24      2014-01-27       0.006596\n",
      "2014-01-27  0.006996   0.006956     2012-01-25      2014-01-28       0.008759\n",
      "2014-01-28  0.007142   0.007305     2012-01-26      2014-01-29       0.007804\n",
      "2014-01-29  0.007384   0.007484     2012-01-27      2014-01-30       0.007606\n",
      "2014-01-30  0.007886   0.007653     2012-01-30      2014-01-31       0.007602\n",
      "...              ...        ...            ...             ...            ...\n",
      "2024-12-20  0.008064   0.008378     2022-12-20      2024-12-23       0.008988\n",
      "2024-12-23  0.008165   0.008781     2022-12-21      2024-12-24       0.009003\n",
      "2024-12-24  0.008477   0.008465     2022-12-22      2024-12-26       0.008722\n",
      "2024-12-26  0.008472   0.008382     2022-12-23      2024-12-27       0.008790\n",
      "2024-12-27  0.008756   0.008810     2022-12-27      2024-12-30       0.008329\n",
      "\n",
      "[2541 rows x 5 columns]\n"
     ]
    }
   ],
   "source": [
    "df1_reset = df1.reset_index()\n",
    "\n",
    "# Merge df1 and df2, aligning df1.Date with df2.Prediction_Date\n",
    "merged_df = pd.merge(df1_reset, df_sv, \n",
    "                     left_on='Date', \n",
    "                     right_on='Training_End', \n",
    "                     how='left')  # 'outer' keeps all dates; use 'left' or 'right' if preferred\n",
    "\n",
    "# Drop redundant 'Prediction_Date' column (same as 'Date')\n",
    "#merged_df = merged_df.drop(columns=['Training_End'])\n",
    "\n",
    "# Optionally set 'Date' back as index\n",
    "merged_df = merged_df.set_index('Date')\n",
    "\n",
    "print(merged_df)"
   ]
  },
  {
   "cell_type": "code",
   "execution_count": 6,
   "metadata": {},
   "outputs": [
    {
     "name": "stdout",
     "output_type": "stream",
     "text": [
      "Wilcoxon test statistic: 266472.0\n",
      "P-value: 0.00000000000000000000\n",
      "Significant difference between SV-LSTM and SV forecasts.\n"
     ]
    }
   ],
   "source": [
    "y_pred_sv=merged_df['SV_Volatility']\n",
    "\n",
    "\n",
    "# 2. Calculate absolute errors (can also use squared errors)\n",
    "error_sv_lstm = abs(y_true - y_pred_sv_lstm)\n",
    "error_sv = abs(y_true - y_pred_sv)\n",
    "\n",
    "# 3. Compute the difference in errors\n",
    "error_diff = error_sv_lstm - error_sv\n",
    "\n",
    "# 4. Perform Wilcoxon Signed-Rank Test\n",
    "stat, p_value = wilcoxon(error_diff)\n",
    "\n",
    "print(f\"Wilcoxon test statistic: {stat}\")\n",
    "print(f\"P-value: {p_value:.20f}\")\n",
    "\n",
    "if p_value < 0.05:\n",
    "    print(\"Significant difference between SV-LSTM and SV forecasts.\")\n",
    "else:\n",
    "    print(\"No significant difference between the models.\")"
   ]
  },
  {
   "cell_type": "code",
   "execution_count": 12,
   "metadata": {},
   "outputs": [
    {
     "name": "stdout",
     "output_type": "stream",
     "text": [
      "Z-score: -36.4546\n"
     ]
    }
   ],
   "source": [
    "# Sample size (after removing zero diffs)\n",
    "n = np.count_nonzero(error_diff)\n",
    "\n",
    "# Mean and standard deviation under H0\n",
    "mu = n * (n + 1) / 4\n",
    "sigma = np.sqrt(n * (n + 1) * (2 * n + 1) / 24)\n",
    "\n",
    "    # Compute z-score\n",
    "z_score = (stat - mu) / sigma\n",
    "print(f\"Z-score: {z_score:.4f}\")"
   ]
  },
  {
   "cell_type": "code",
   "execution_count": 37,
   "metadata": {},
   "outputs": [
    {
     "data": {
      "image/png": "[encoded data removed]",
      "text/plain": [
       "<Figure size 640x480 with 1 Axes>"
      ]
     },
     "metadata": {},
     "output_type": "display_data"
    }
   ],
   "source": [
    "import matplotlib.pyplot as plt\n",
    "\n",
    "plt.hist(error_diff, bins=50, color='skyblue')\n",
    "plt.title('Difference in Forecast Errors (SV-LSTM - LSTM)')\n",
    "plt.xlabel('Error Difference')\n",
    "plt.ylabel('Frequency')\n",
    "plt.show()"
   ]
  },
  {
   "cell_type": "code",
   "execution_count": 17,
   "metadata": {},
   "outputs": [],
   "source": [
    "def diebold_mariano(e1, e2, h=1, power=2):\n",
    "    \"\"\"\n",
    "    e1, e2: forecast errors from two models\n",
    "    h: forecast horizon\n",
    "    power: loss function power (2 = MSE, 1 = MAE)\n",
    "    \"\"\"\n",
    "    d = np.abs(e1) ** power - np.abs(e2) ** power  # loss differential\n",
    "    mean_d = np.mean(d)\n",
    "    var_d = np.var(d, ddof=1)\n",
    "    DM_stat = mean_d / np.sqrt((var_d / len(d)))\n",
    "    p_value = 2 * stats.norm.cdf(-abs(DM_stat))\n",
    "    return DM_stat, p_value"
   ]
  },
  {
   "cell_type": "code",
   "execution_count": 51,
   "metadata": {},
   "outputs": [
    {
     "name": "stdout",
     "output_type": "stream",
     "text": [
      "Diebold-Mariano statistic: -9.1790, p-value: 0.00000000\n"
     ]
    }
   ],
   "source": [
    "# Apply Diebold-Mariano test\n",
    "dm_stat, dm_p = diebold_mariano(error_sv_lstm, error_sv, h=1, power=2)\n",
    "print(f\"Diebold-Mariano statistic: {dm_stat:.4f}, p-value: {dm_p:.8f}\")"
   ]
  },
  {
   "cell_type": "code",
   "execution_count": 39,
   "metadata": {},
   "outputs": [
    {
     "name": "stdout",
     "output_type": "stream",
     "text": [
      "Kolmogorov-Smirnov statistic: 0.8693, p-value: 0.0000\n"
     ]
    }
   ],
   "source": [
    "ks_stat, ks_p = stats.ks_2samp(y_pred_sv_lstm, error_sv)\n",
    "print(f\"Kolmogorov-Smirnov statistic: {ks_stat:.4f}, p-value: {ks_p:.4f}\")"
   ]
  },
  {
   "cell_type": "code",
   "execution_count": 53,
   "metadata": {},
   "outputs": [
    {
     "name": "stdout",
     "output_type": "stream",
     "text": [
      "Diebold-Mariano statistic: -29.1385, p-value: 0.00000000\n"
     ]
    }
   ],
   "source": [
    "# Apply Diebold-Mariano test\n",
    "dm_stat3, dm_p3 = diebold_mariano(error_sv_lstm, error_sv, h=1, power=1)\n",
    "print(f\"Diebold-Mariano statistic: {dm_stat3:.4f}, p-value: {dm_p3:.8f}\")"
   ]
  },
  {
   "cell_type": "code",
   "execution_count": 41,
   "metadata": {},
   "outputs": [
    {
     "name": "stdout",
     "output_type": "stream",
     "text": [
      "DM Statistic (MAE): -29.1385, P-value: 0.00000000\n"
     ]
    }
   ],
   "source": [
    "dm_stat4, dm_p4 = diebold_mariano(error_sv_lstm, error_sv, h=1, power=1)  # Absolute error\n",
    "print(f\"DM Statistic (MAE): {dm_stat4:.4f}, P-value: {dm_p4:.8f}\")\n"
   ]
  },
  {
   "cell_type": "code",
   "execution_count": 42,
   "metadata": {},
   "outputs": [
    {
     "name": "stdout",
     "output_type": "stream",
     "text": [
      "Diebold-Mariano Test Statistic: -23.58630765424515\n",
      "P-value: 1.0867441086627264e-111\n"
     ]
    }
   ],
   "source": [
    "dm_test, dm_p2 = dm_test(y_true, y_pred_sv_lstm, error_sv, one_sided=True)\n",
    "print(f\"Diebold-Mariano Test Statistic: {dm_test}\")\n",
    "print(f\"P-value: {dm_p2}\")"
   ]
  },
  {
   "cell_type": "code",
   "execution_count": 45,
   "metadata": {},
   "outputs": [
    {
     "name": "stdout",
     "output_type": "stream",
     "text": [
      "MSE LSTM: 8.718939336059138e-06, MSE SV-LSTM: 5.071173179974377e-07\n"
     ]
    }
   ],
   "source": [
    "mse_sv = np.mean((y_true - y_pred_sv) ** 2)\n",
    "mse_sv_lstm = np.mean((y_true - y_pred_sv_lstm) ** 2)\n",
    "print(f\"MSE LSTM: {mse_lstm}, MSE SV-LSTM: {mse_sv_lstm}\")\n"
   ]
  },
  {
   "cell_type": "code",
   "execution_count": 47,
   "metadata": {},
   "outputs": [
    {
     "data": {
      "image/png": "[encoded data removed]",
      "text/plain": [
       "<Figure size 640x480 with 1 Axes>"
      ]
     },
     "metadata": {},
     "output_type": "display_data"
    }
   ],
   "source": [
    "import matplotlib.pyplot as plt\n",
    "import seaborn as sns\n",
    "\n",
    "sns.kdeplot(error_sv, label=\"SV Errors\", fill=True)\n",
    "sns.kdeplot(error_sv_lstm, label=\"SV-LSTM Errors\", fill=True)\n",
    "plt.legend()\n",
    "plt.title(\"Density Plot of Forecast Errors\")\n",
    "plt.show()\n"
   ]
  },
  {
   "cell_type": "code",
   "execution_count": 48,
   "metadata": {},
   "outputs": [
    {
     "name": "stdout",
     "output_type": "stream",
     "text": [
      "LSTM Model:\n",
      "MSE: 8.72 × 10^-6\n",
      "MAE: 1.72 × 10^-3\n",
      "\n",
      "SV-LSTM Model:\n",
      "MSE: 5.07 × 10^-7\n",
      "MAE: 4.29 × 10^-4\n"
     ]
    }
   ],
   "source": [
    "\n",
    "# Define functions\n",
    "def mse(y_true, y_pred):\n",
    "    return np.mean((y_true - y_pred) ** 2)\n",
    "\n",
    "def mae(y_true, y_pred):\n",
    "    return np.mean(np.abs(y_true - y_pred))\n",
    "\n",
    "def mape(y_true, y_pred):\n",
    "    return np.mean(np.abs((y_true - y_pred) / y_true)) * 100\n",
    "\n",
    "\n",
    "# Compute error metrics\n",
    "mse_lstm = mse(y_true, y_pred_sv)\n",
    "mae_lstm = mae(y_true, y_pred_sv)\n",
    "mape_lstm = mape(y_true, y_pred_sv)\n",
    "\n",
    "mse_sv_lstm = mse(y_true, y_pred_sv_lstm)\n",
    "mae_sv_lstm = mae(y_true, y_pred_sv_lstm)\n",
    "mape_sv_lstm = mape(y_true, y_pred_sv_lstm)\n",
    "\n",
    "# Display results in scientific notation\n",
    "\n",
    "def sci_format(val):\n",
    "    return f\"{val:.2e}\".replace(\"e-0\", \"e-\").replace(\"e+\", \"e\")\n",
    "\n",
    "def format_as_10(val):\n",
    "    # Convert to scientific notation like: 1.29 * 10^(-5)\n",
    "    base, exp = f\"{val:.2e}\".split('e')\n",
    "    return f\"{base} × 10^{int(exp)}\"\n",
    "\n",
    "# Display results\n",
    "print(\"LSTM Model:\")\n",
    "print(f\"MSE: {format_as_10(mse_lstm)}\")\n",
    "print(f\"MAE: {format_as_10(mae_lstm)}\")\n",
    "\n",
    "print(\"\\nSV-LSTM Model:\")\n",
    "print(f\"MSE: {format_as_10(mse_sv_lstm)}\")\n",
    "print(f\"MAE: {format_as_10(mae_sv_lstm)}\")"
   ]
  }
 ],
 "metadata": {
  "kernelspec": {
   "display_name": "Python 3",
   "language": "python",
   "name": "python3"
  },
  "language_info": {
   "codemirror_mode": {
    "name": "ipython",
    "version": 3
   },
   "file_extension": ".py",
   "mimetype": "text/x-python",
   "name": "python",
   "nbconvert_exporter": "python",
   "pygments_lexer": "ipython3",
   "version": "3.12.6"
  }
 },
 "nbformat": 4,
 "nbformat_minor": 2
}
