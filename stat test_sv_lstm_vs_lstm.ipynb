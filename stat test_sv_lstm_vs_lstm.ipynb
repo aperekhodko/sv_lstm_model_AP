{
 "cells": [
  {
   "cell_type": "code",
   "execution_count": 35,
   "metadata": {},
   "outputs": [],
   "source": [
    "import pandas as pd\n",
    "from scipy.stats import wilcoxon\n",
    "import numpy as np\n",
    "from scipy import stats\n",
    "from dieboldmariano import dm_test"
   ]
  },
  {
   "cell_type": "code",
   "execution_count": 36,
   "metadata": {},
   "outputs": [
    {
     "name": "stdout",
     "output_type": "stream",
     "text": [
      "         Date    Actual  Predicted\n",
      "0  2014-01-24  0.006968   0.005303\n",
      "1  2014-01-27  0.006996   0.006565\n",
      "2  2014-01-28  0.007142   0.007071\n",
      "3  2014-01-29  0.007384   0.007284\n",
      "4  2014-01-30  0.007886   0.007557\n"
     ]
    }
   ],
   "source": [
    "df1 = pd.read_csv('lstm_baseline.csv')\n",
    "\n",
    "print(df1.head())"
   ]
  },
  {
   "cell_type": "code",
   "execution_count": 37,
   "metadata": {},
   "outputs": [],
   "source": [
    "y_true = df1['Actual']\n",
    "y_pred_lstm=df1['Predicted']"
   ]
  },
  {
   "cell_type": "code",
   "execution_count": 38,
   "metadata": {},
   "outputs": [
    {
     "name": "stdout",
     "output_type": "stream",
     "text": [
      "         Date    Actual  Predicted\n",
      "0  2014-01-24  0.006968   0.005308\n",
      "1  2014-01-27  0.006996   0.006956\n",
      "2  2014-01-28  0.007142   0.007305\n",
      "3  2014-01-29  0.007384   0.007484\n",
      "4  2014-01-30  0.007886   0.007653\n"
     ]
    }
   ],
   "source": [
    "df2 = pd.read_csv('hybrid_baseline.csv')\n",
    "\n",
    "print(df2.head())"
   ]
  },
  {
   "cell_type": "code",
   "execution_count": 39,
   "metadata": {},
   "outputs": [
    {
     "name": "stdout",
     "output_type": "stream",
     "text": [
      "Wilcoxon test statistic: 1544740.0\n",
      "P-value: 0.05817887876286071541\n",
      "No significant difference between the models.\n"
     ]
    }
   ],
   "source": [
    "y_pred_sv_lstm = df2['Predicted']\n",
    "\n",
    "\n",
    "# 2. Calculate absolute errors (can also use squared errors)\n",
    "error_sv_lstm = abs(y_true - y_pred_sv_lstm)\n",
    "error_lstm = abs(y_true - y_pred_lstm)\n",
    "\n",
    "# 3. Compute the difference in errors\n",
    "error_diff = error_sv_lstm - error_lstm\n",
    "\n",
    "# 4. Perform Wilcoxon Signed-Rank Test\n",
    "stat, p_value = wilcoxon(error_diff)\n",
    "\n",
    "print(f\"Wilcoxon test statistic: {stat}\")\n",
    "print(f\"P-value: {p_value:.20f}\")\n",
    "\n",
    "if p_value < 0.05:\n",
    "    print(\"Significant difference between SV-LSTM and LSTM forecasts.\")\n",
    "else:\n",
    "    print(\"No significant difference between the models.\")"
   ]
  },
  {
   "cell_type": "code",
   "execution_count": 40,
   "metadata": {},
   "outputs": [
    {
     "data": {
      "image/png": "[encoded data removed]",
      "text/plain": [
       "<Figure size 640x480 with 1 Axes>"
      ]
     },
     "metadata": {},
     "output_type": "display_data"
    }
   ],
   "source": [
    "import matplotlib.pyplot as plt\n",
    "\n",
    "plt.hist(error_diff, bins=50, color='skyblue')\n",
    "plt.title('Difference in Forecast Errors (SV-LSTM - LSTM)')\n",
    "plt.xlabel('Error Difference')\n",
    "plt.ylabel('Frequency')\n",
    "plt.show()"
   ]
  },
  {
   "cell_type": "code",
   "execution_count": 41,
   "metadata": {},
   "outputs": [],
   "source": [
    "def diebold_mariano(e1, e2, h=1, power=2):\n",
    "    \"\"\"\n",
    "    e1, e2: forecast errors from two models\n",
    "    h: forecast horizon\n",
    "    power: loss function power (2 = MSE, 1 = MAE)\n",
    "    \"\"\"\n",
    "    d = np.abs(e1) ** power - np.abs(e2) ** power  # loss differential\n",
    "    mean_d = np.mean(d)\n",
    "    var_d = np.var(d, ddof=1)\n",
    "    DM_stat = mean_d / np.sqrt((var_d / len(d)))\n",
    "    p_value = 2 * stats.norm.cdf(-abs(DM_stat))\n",
    "    return DM_stat, p_value"
   ]
  },
  {
   "cell_type": "code",
   "execution_count": 42,
   "metadata": {},
   "outputs": [
    {
     "name": "stdout",
     "output_type": "stream",
     "text": [
      "Diebold-Mariano statistic: -6.8555, p-value: 0.00000000\n"
     ]
    }
   ],
   "source": [
    "# Apply Diebold-Mariano test\n",
    "dm_stat, dm_p = diebold_mariano(error_sv_lstm, error_lstm, h=1, power=2)\n",
    "print(f\"Diebold-Mariano statistic: {dm_stat:.4f}, p-value: {dm_p:.8f}\")"
   ]
  },
  {
   "cell_type": "code",
   "execution_count": 43,
   "metadata": {},
   "outputs": [
    {
     "name": "stdout",
     "output_type": "stream",
     "text": [
      "Kolmogorov-Smirnov statistic: 0.0303, p-value: 0.1938\n"
     ]
    }
   ],
   "source": [
    "ks_stat, ks_p = stats.ks_2samp(y_pred_sv_lstm, y_pred_lstm)\n",
    "print(f\"Kolmogorov-Smirnov statistic: {ks_stat:.4f}, p-value: {ks_p:.4f}\")"
   ]
  },
  {
   "cell_type": "code",
   "execution_count": 52,
   "metadata": {},
   "outputs": [
    {
     "name": "stdout",
     "output_type": "stream",
     "text": [
      "Diebold-Mariano statistic: -5.5140, p-value: 0.00000004\n"
     ]
    }
   ],
   "source": [
    "# Apply Diebold-Mariano test\n",
    "dm_stat3, dm_p3 = diebold_mariano(error_sv_lstm, error_lstm, h=1, power=1)\n",
    "print(f\"Diebold-Mariano statistic: {dm_stat3:.4f}, p-value: {dm_p3:.8f}\")"
   ]
  },
  {
   "cell_type": "code",
   "execution_count": 51,
   "metadata": {},
   "outputs": [
    {
     "name": "stdout",
     "output_type": "stream",
     "text": [
      "DM Statistic (MAE): -5.5140, P-value: 0.00000004\n"
     ]
    }
   ],
   "source": [
    "dm_stat4, dm_p4 = diebold_mariano(error_sv_lstm, error_lstm, h=1, power=1)  # Absolute error\n",
    "print(f\"DM Statistic (MAE): {dm_stat4:.4f}, P-value: {dm_p4:.8f}\")\n"
   ]
  },
  {
   "cell_type": "code",
   "execution_count": 46,
   "metadata": {},
   "outputs": [
    {
     "name": "stdout",
     "output_type": "stream",
     "text": [
      "Diebold-Mariano Test Statistic: -6.855525702794906\n",
      "P-value: 8.887555630205463e-12\n"
     ]
    }
   ],
   "source": [
    "dm_test, dm_p2 = dm_test(y_true, y_pred_sv_lstm, y_pred_lstm, one_sided=False)\n",
    "print(f\"Diebold-Mariano Test Statistic: {dm_test}\")\n",
    "print(f\"P-value: {dm_p2}\")"
   ]
  },
  {
   "cell_type": "code",
   "execution_count": 47,
   "metadata": {},
   "outputs": [
    {
     "name": "stdout",
     "output_type": "stream",
     "text": [
      "MSE LSTM: 7.087086163682974e-07, MSE SV-LSTM: 5.071173179974377e-07\n"
     ]
    }
   ],
   "source": [
    "mse_lstm = np.mean((y_true - y_pred_lstm) ** 2)\n",
    "mse_sv_lstm = np.mean((y_true - y_pred_sv_lstm) ** 2)\n",
    "print(f\"MSE LSTM: {mse_lstm}, MSE SV-LSTM: {mse_sv_lstm}\")\n"
   ]
  },
  {
   "cell_type": "code",
   "execution_count": 48,
   "metadata": {},
   "outputs": [
    {
     "data": {
      "image/png": "[encoded data removed]",
      "text/plain": [
       "<Figure size 640x480 with 1 Axes>"
      ]
     },
     "metadata": {},
     "output_type": "display_data"
    }
   ],
   "source": [
    "import matplotlib.pyplot as plt\n",
    "import seaborn as sns\n",
    "\n",
    "sns.kdeplot(error_lstm, label=\"LSTM Errors\", fill=True)\n",
    "sns.kdeplot(error_sv_lstm, label=\"SV-LSTM Errors\", fill=True)\n",
    "plt.legend()\n",
    "plt.title(\"Density Plot of Forecast Errors\")\n",
    "plt.show()\n"
   ]
  },
  {
   "cell_type": "code",
   "execution_count": 49,
   "metadata": {},
   "outputs": [
    {
     "name": "stdout",
     "output_type": "stream",
     "text": [
      "LSTM Model:\n",
      "MSE: 7.09 × 10^-7\n",
      "MAE: 4.80 × 10^-4\n",
      "MAPE: 5.290680302068335\n",
      "\n",
      "SV-LSTM Model:\n",
      "MSE: 5.07 × 10^-7\n",
      "MAE: 4.29 × 10^-4\n",
      "MAPE: 4.747001835613331\n"
     ]
    }
   ],
   "source": [
    "\n",
    "# Define functions\n",
    "def mse(y_true, y_pred):\n",
    "    return np.mean((y_true - y_pred) ** 2)\n",
    "\n",
    "def mae(y_true, y_pred):\n",
    "    return np.mean(np.abs(y_true - y_pred))\n",
    "\n",
    "def mape(y_true, y_pred):\n",
    "    return np.mean(np.abs((y_true - y_pred) / y_true)) * 100\n",
    "\n",
    "\n",
    "# Compute error metrics\n",
    "mse_lstm = mse(y_true, y_pred_lstm)\n",
    "mae_lstm = mae(y_true, y_pred_lstm)\n",
    "mape_lstm = mape(y_true, y_pred_lstm)\n",
    "\n",
    "mse_sv_lstm = mse(y_true, y_pred_sv_lstm)\n",
    "mae_sv_lstm = mae(y_true, y_pred_sv_lstm)\n",
    "mape_sv_lstm = mape(y_true, y_pred_sv_lstm)\n",
    "\n",
    "# Display results in scientific notation\n",
    "\n",
    "def sci_format(val):\n",
    "    return f\"{val:.2e}\".replace(\"e-0\", \"e-\").replace(\"e+\", \"e\")\n",
    "\n",
    "def format_as_10(val):\n",
    "    # Convert to scientific notation like: 1.29 * 10^(-5)\n",
    "    base, exp = f\"{val:.2e}\".split('e')\n",
    "    return f\"{base} × 10^{int(exp)}\"\n",
    "\n",
    "# Display results\n",
    "print(\"LSTM Model:\")\n",
    "print(f\"MSE: {format_as_10(mse_lstm)}\")\n",
    "print(f\"MAE: {format_as_10(mae_lstm)}\")\n",
    "print(f\"MAPE: {(mape_lstm)}\")\n",
    "\n",
    "\n",
    "print(\"\\nSV-LSTM Model:\")\n",
    "print(f\"MSE: {format_as_10(mse_sv_lstm)}\")\n",
    "print(f\"MAE: {format_as_10(mae_sv_lstm)}\")\n",
    "print(f\"MAPE: {(mape_sv_lstm)}\")"
   ]
  }
 ],
 "metadata": {
  "kernelspec": {
   "display_name": "Python 3",
   "language": "python",
   "name": "python3"
  },
  "language_info": {
   "codemirror_mode": {
    "name": "ipython",
    "version": 3
   },
   "file_extension": ".py",
   "mimetype": "text/x-python",
   "name": "python",
   "nbconvert_exporter": "python",
   "pygments_lexer": "ipython3",
   "version": "3.12.6"
  }
 },
 "nbformat": 4,
 "nbformat_minor": 2
}
